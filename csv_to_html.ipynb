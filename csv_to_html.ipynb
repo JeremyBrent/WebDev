{
 "cells": [
  {
   "cell_type": "code",
   "execution_count": 5,
   "metadata": {
    "ExecuteTime": {
     "end_time": "2020-05-12T04:29:21.365164Z",
     "start_time": "2020-05-12T04:29:21.362708Z"
    }
   },
   "outputs": [],
   "source": [
    "import pandas as pd\n",
    "import os"
   ]
  },
  {
   "cell_type": "code",
   "execution_count": 6,
   "metadata": {
    "ExecuteTime": {
     "end_time": "2020-05-12T04:29:21.872554Z",
     "start_time": "2020-05-12T04:29:21.780655Z"
    }
   },
   "outputs": [],
   "source": [
    "path = os.path.join(\"Resources\",\"cities.csv\")\n",
    "df = pd.read_csv(path)\n",
    "html = df.to_html()\n",
    "text_file = open(\"data.html\", \"w\")\n",
    "text_file.write(html)\n",
    "text_file.close()"
   ]
  },
  {
   "cell_type": "code",
   "execution_count": null,
   "metadata": {},
   "outputs": [],
   "source": []
  }
 ],
 "metadata": {
  "kernelspec": {
   "display_name": "Python 3.6.10 64-bit ('PythonData2020_1': conda)",
   "language": "python",
   "name": "python361064bitpythondata20201conda4483446da3a149c49ccb50a5c828d3b3"
  },
  "language_info": {
   "codemirror_mode": {
    "name": "ipython",
    "version": 3
   },
   "file_extension": ".py",
   "mimetype": "text/x-python",
   "name": "python",
   "nbconvert_exporter": "python",
   "pygments_lexer": "ipython3",
   "version": "3.6.10"
  }
 },
 "nbformat": 4,
 "nbformat_minor": 2
}
